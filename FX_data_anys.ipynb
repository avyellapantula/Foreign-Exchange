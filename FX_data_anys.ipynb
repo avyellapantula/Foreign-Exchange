{
 "cells": [
  {
   "cell_type": "code",
   "execution_count": 12,
   "metadata": {},
   "outputs": [],
   "source": [
    "# libs\n",
    "import pandas as pd\n",
    "import numpy as np\n",
    "import matplotlib.pyplot as plt\n",
    "%matplotlib inline\n",
    "import seaborn as sns"
   ]
  },
  {
   "cell_type": "code",
   "execution_count": 18,
   "metadata": {},
   "outputs": [],
   "source": [
    "maindf=pd.read_csv('rates_1mo.csv')"
   ]
  },
  {
   "cell_type": "code",
   "execution_count": 23,
   "metadata": {},
   "outputs": [
    {
     "data": {
      "text/html": [
       "<div>\n",
       "<style scoped>\n",
       "    .dataframe tbody tr th:only-of-type {\n",
       "        vertical-align: middle;\n",
       "    }\n",
       "\n",
       "    .dataframe tbody tr th {\n",
       "        vertical-align: top;\n",
       "    }\n",
       "\n",
       "    .dataframe thead th {\n",
       "        text-align: right;\n",
       "    }\n",
       "</style>\n",
       "<table border=\"1\" class=\"dataframe\">\n",
       "  <thead>\n",
       "    <tr style=\"text-align: right;\">\n",
       "      <th></th>\n",
       "      <th>base_currency</th>\n",
       "      <th>quote_currency</th>\n",
       "      <th>start_time</th>\n",
       "      <th>open_time</th>\n",
       "      <th>close_time</th>\n",
       "      <th>open_bid</th>\n",
       "      <th>open_ask</th>\n",
       "      <th>open_midpoint</th>\n",
       "      <th>close_bid</th>\n",
       "      <th>close_ask</th>\n",
       "      <th>close_midpoint</th>\n",
       "      <th>average_bid</th>\n",
       "      <th>average_ask</th>\n",
       "      <th>average_midpoint</th>\n",
       "      <th>high_bid</th>\n",
       "      <th>high_ask</th>\n",
       "      <th>high_midpoint</th>\n",
       "      <th>low_bid</th>\n",
       "      <th>low_ask</th>\n",
       "      <th>low_midpoint</th>\n",
       "    </tr>\n",
       "  </thead>\n",
       "  <tbody>\n",
       "    <tr>\n",
       "      <th>0</th>\n",
       "      <td>USD</td>\n",
       "      <td>CAD</td>\n",
       "      <td>2020-12-03T00:00:00+00:00</td>\n",
       "      <td>2020-12-03T00:00:00+00:00</td>\n",
       "      <td>2020-12-03T23:59:59+00:00</td>\n",
       "      <td>1.29446</td>\n",
       "      <td>1.29446</td>\n",
       "      <td>1.29446</td>\n",
       "      <td>1.29142</td>\n",
       "      <td>1.29142</td>\n",
       "      <td>1.29142</td>\n",
       "      <td>1.29142</td>\n",
       "      <td>1.29142</td>\n",
       "      <td>1.29142</td>\n",
       "      <td>NaN</td>\n",
       "      <td>NaN</td>\n",
       "      <td>NaN</td>\n",
       "      <td>NaN</td>\n",
       "      <td>NaN</td>\n",
       "      <td>NaN</td>\n",
       "    </tr>\n",
       "    <tr>\n",
       "      <th>1</th>\n",
       "      <td>USD</td>\n",
       "      <td>CAD</td>\n",
       "      <td>2020-12-04T00:00:00+00:00</td>\n",
       "      <td>2020-12-04T00:00:00+00:00</td>\n",
       "      <td>2020-12-04T23:59:59+00:00</td>\n",
       "      <td>1.29142</td>\n",
       "      <td>1.29142</td>\n",
       "      <td>1.29142</td>\n",
       "      <td>1.28571</td>\n",
       "      <td>1.28571</td>\n",
       "      <td>1.28571</td>\n",
       "      <td>1.28571</td>\n",
       "      <td>1.28571</td>\n",
       "      <td>1.28571</td>\n",
       "      <td>NaN</td>\n",
       "      <td>NaN</td>\n",
       "      <td>NaN</td>\n",
       "      <td>NaN</td>\n",
       "      <td>NaN</td>\n",
       "      <td>NaN</td>\n",
       "    </tr>\n",
       "    <tr>\n",
       "      <th>2</th>\n",
       "      <td>USD</td>\n",
       "      <td>CAD</td>\n",
       "      <td>2020-12-05T00:00:00+00:00</td>\n",
       "      <td>2020-12-05T00:00:00+00:00</td>\n",
       "      <td>2020-12-05T23:59:59+00:00</td>\n",
       "      <td>1.28571</td>\n",
       "      <td>1.28571</td>\n",
       "      <td>1.28571</td>\n",
       "      <td>1.28571</td>\n",
       "      <td>1.28571</td>\n",
       "      <td>1.28571</td>\n",
       "      <td>1.28571</td>\n",
       "      <td>1.28571</td>\n",
       "      <td>1.28571</td>\n",
       "      <td>NaN</td>\n",
       "      <td>NaN</td>\n",
       "      <td>NaN</td>\n",
       "      <td>NaN</td>\n",
       "      <td>NaN</td>\n",
       "      <td>NaN</td>\n",
       "    </tr>\n",
       "    <tr>\n",
       "      <th>3</th>\n",
       "      <td>USD</td>\n",
       "      <td>CAD</td>\n",
       "      <td>2020-12-06T00:00:00+00:00</td>\n",
       "      <td>2020-12-06T00:00:00+00:00</td>\n",
       "      <td>2020-12-06T23:59:59+00:00</td>\n",
       "      <td>1.28571</td>\n",
       "      <td>1.28571</td>\n",
       "      <td>1.28571</td>\n",
       "      <td>1.28571</td>\n",
       "      <td>1.28571</td>\n",
       "      <td>1.28571</td>\n",
       "      <td>1.28571</td>\n",
       "      <td>1.28571</td>\n",
       "      <td>1.28571</td>\n",
       "      <td>NaN</td>\n",
       "      <td>NaN</td>\n",
       "      <td>NaN</td>\n",
       "      <td>NaN</td>\n",
       "      <td>NaN</td>\n",
       "      <td>NaN</td>\n",
       "    </tr>\n",
       "    <tr>\n",
       "      <th>4</th>\n",
       "      <td>USD</td>\n",
       "      <td>CAD</td>\n",
       "      <td>2020-12-07T00:00:00+00:00</td>\n",
       "      <td>2020-12-07T00:00:00+00:00</td>\n",
       "      <td>2020-12-07T23:59:59+00:00</td>\n",
       "      <td>1.28571</td>\n",
       "      <td>1.28571</td>\n",
       "      <td>1.28571</td>\n",
       "      <td>1.28109</td>\n",
       "      <td>1.28109</td>\n",
       "      <td>1.28109</td>\n",
       "      <td>1.28109</td>\n",
       "      <td>1.28109</td>\n",
       "      <td>1.28109</td>\n",
       "      <td>NaN</td>\n",
       "      <td>NaN</td>\n",
       "      <td>NaN</td>\n",
       "      <td>NaN</td>\n",
       "      <td>NaN</td>\n",
       "      <td>NaN</td>\n",
       "    </tr>\n",
       "  </tbody>\n",
       "</table>\n",
       "</div>"
      ],
      "text/plain": [
       "  base_currency quote_currency                 start_time  \\\n",
       "0           USD            CAD  2020-12-03T00:00:00+00:00   \n",
       "1           USD            CAD  2020-12-04T00:00:00+00:00   \n",
       "2           USD            CAD  2020-12-05T00:00:00+00:00   \n",
       "3           USD            CAD  2020-12-06T00:00:00+00:00   \n",
       "4           USD            CAD  2020-12-07T00:00:00+00:00   \n",
       "\n",
       "                   open_time                 close_time  open_bid  open_ask  \\\n",
       "0  2020-12-03T00:00:00+00:00  2020-12-03T23:59:59+00:00   1.29446   1.29446   \n",
       "1  2020-12-04T00:00:00+00:00  2020-12-04T23:59:59+00:00   1.29142   1.29142   \n",
       "2  2020-12-05T00:00:00+00:00  2020-12-05T23:59:59+00:00   1.28571   1.28571   \n",
       "3  2020-12-06T00:00:00+00:00  2020-12-06T23:59:59+00:00   1.28571   1.28571   \n",
       "4  2020-12-07T00:00:00+00:00  2020-12-07T23:59:59+00:00   1.28571   1.28571   \n",
       "\n",
       "   open_midpoint  close_bid  close_ask  close_midpoint  average_bid  \\\n",
       "0        1.29446    1.29142    1.29142         1.29142      1.29142   \n",
       "1        1.29142    1.28571    1.28571         1.28571      1.28571   \n",
       "2        1.28571    1.28571    1.28571         1.28571      1.28571   \n",
       "3        1.28571    1.28571    1.28571         1.28571      1.28571   \n",
       "4        1.28571    1.28109    1.28109         1.28109      1.28109   \n",
       "\n",
       "   average_ask  average_midpoint  high_bid  high_ask  high_midpoint  low_bid  \\\n",
       "0      1.29142           1.29142       NaN       NaN            NaN      NaN   \n",
       "1      1.28571           1.28571       NaN       NaN            NaN      NaN   \n",
       "2      1.28571           1.28571       NaN       NaN            NaN      NaN   \n",
       "3      1.28571           1.28571       NaN       NaN            NaN      NaN   \n",
       "4      1.28109           1.28109       NaN       NaN            NaN      NaN   \n",
       "\n",
       "   low_ask  low_midpoint  \n",
       "0      NaN           NaN  \n",
       "1      NaN           NaN  \n",
       "2      NaN           NaN  \n",
       "3      NaN           NaN  \n",
       "4      NaN           NaN  "
      ]
     },
     "execution_count": 23,
     "metadata": {},
     "output_type": "execute_result"
    }
   ],
   "source": [
    "maindf.head()\n",
    "# 12-03-2020\n",
    "# 01-03-2021\n",
    "# cost 186+12 quotes"
   ]
  },
  {
   "cell_type": "code",
   "execution_count": 21,
   "metadata": {},
   "outputs": [
    {
     "data": {
      "text/plain": [
       "186"
      ]
     },
     "execution_count": 21,
     "metadata": {},
     "output_type": "execute_result"
    }
   ],
   "source": [
    "len(maindf)"
   ]
  },
  {
   "cell_type": "code",
   "execution_count": 40,
   "metadata": {},
   "outputs": [],
   "source": [
    "df = maindf[['base_currency', 'quote_currency', 'close_time','average_midpoint']].copy()"
   ]
  },
  {
   "cell_type": "code",
   "execution_count": 41,
   "metadata": {},
   "outputs": [
    {
     "data": {
      "text/html": [
       "<div>\n",
       "<style scoped>\n",
       "    .dataframe tbody tr th:only-of-type {\n",
       "        vertical-align: middle;\n",
       "    }\n",
       "\n",
       "    .dataframe tbody tr th {\n",
       "        vertical-align: top;\n",
       "    }\n",
       "\n",
       "    .dataframe thead th {\n",
       "        text-align: right;\n",
       "    }\n",
       "</style>\n",
       "<table border=\"1\" class=\"dataframe\">\n",
       "  <thead>\n",
       "    <tr style=\"text-align: right;\">\n",
       "      <th></th>\n",
       "      <th>base_currency</th>\n",
       "      <th>quote_currency</th>\n",
       "      <th>close_time</th>\n",
       "      <th>average_midpoint</th>\n",
       "    </tr>\n",
       "  </thead>\n",
       "  <tbody>\n",
       "    <tr>\n",
       "      <th>0</th>\n",
       "      <td>USD</td>\n",
       "      <td>CAD</td>\n",
       "      <td>2020-12-03T23:59:59+00:00</td>\n",
       "      <td>1.29142</td>\n",
       "    </tr>\n",
       "    <tr>\n",
       "      <th>1</th>\n",
       "      <td>USD</td>\n",
       "      <td>CAD</td>\n",
       "      <td>2020-12-04T23:59:59+00:00</td>\n",
       "      <td>1.28571</td>\n",
       "    </tr>\n",
       "    <tr>\n",
       "      <th>2</th>\n",
       "      <td>USD</td>\n",
       "      <td>CAD</td>\n",
       "      <td>2020-12-05T23:59:59+00:00</td>\n",
       "      <td>1.28571</td>\n",
       "    </tr>\n",
       "    <tr>\n",
       "      <th>3</th>\n",
       "      <td>USD</td>\n",
       "      <td>CAD</td>\n",
       "      <td>2020-12-06T23:59:59+00:00</td>\n",
       "      <td>1.28571</td>\n",
       "    </tr>\n",
       "    <tr>\n",
       "      <th>4</th>\n",
       "      <td>USD</td>\n",
       "      <td>CAD</td>\n",
       "      <td>2020-12-07T23:59:59+00:00</td>\n",
       "      <td>1.28109</td>\n",
       "    </tr>\n",
       "  </tbody>\n",
       "</table>\n",
       "</div>"
      ],
      "text/plain": [
       "  base_currency quote_currency                 close_time  average_midpoint\n",
       "0           USD            CAD  2020-12-03T23:59:59+00:00           1.29142\n",
       "1           USD            CAD  2020-12-04T23:59:59+00:00           1.28571\n",
       "2           USD            CAD  2020-12-05T23:59:59+00:00           1.28571\n",
       "3           USD            CAD  2020-12-06T23:59:59+00:00           1.28571\n",
       "4           USD            CAD  2020-12-07T23:59:59+00:00           1.28109"
      ]
     },
     "execution_count": 41,
     "metadata": {},
     "output_type": "execute_result"
    }
   ],
   "source": [
    "df.head()"
   ]
  },
  {
   "cell_type": "code",
   "execution_count": 42,
   "metadata": {
    "scrolled": true
   },
   "outputs": [
    {
     "data": {
      "text/plain": [
       "base_currency        object\n",
       "quote_currency       object\n",
       "close_time           object\n",
       "average_midpoint    float64\n",
       "dtype: object"
      ]
     },
     "execution_count": 42,
     "metadata": {},
     "output_type": "execute_result"
    }
   ],
   "source": [
    "df.dtypes"
   ]
  },
  {
   "cell_type": "code",
   "execution_count": 43,
   "metadata": {},
   "outputs": [],
   "source": [
    "# convert close_time to date\n",
    "df['close_time']=pd.to_datetime(df['close_time'])"
   ]
  },
  {
   "cell_type": "code",
   "execution_count": 44,
   "metadata": {},
   "outputs": [
    {
     "data": {
      "text/html": [
       "<div>\n",
       "<style scoped>\n",
       "    .dataframe tbody tr th:only-of-type {\n",
       "        vertical-align: middle;\n",
       "    }\n",
       "\n",
       "    .dataframe tbody tr th {\n",
       "        vertical-align: top;\n",
       "    }\n",
       "\n",
       "    .dataframe thead th {\n",
       "        text-align: right;\n",
       "    }\n",
       "</style>\n",
       "<table border=\"1\" class=\"dataframe\">\n",
       "  <thead>\n",
       "    <tr style=\"text-align: right;\">\n",
       "      <th></th>\n",
       "      <th>base_currency</th>\n",
       "      <th>quote_currency</th>\n",
       "      <th>close_time</th>\n",
       "      <th>average_midpoint</th>\n",
       "    </tr>\n",
       "  </thead>\n",
       "  <tbody>\n",
       "    <tr>\n",
       "      <th>0</th>\n",
       "      <td>USD</td>\n",
       "      <td>CAD</td>\n",
       "      <td>2020-12-03 23:59:59+00:00</td>\n",
       "      <td>1.29142</td>\n",
       "    </tr>\n",
       "    <tr>\n",
       "      <th>1</th>\n",
       "      <td>USD</td>\n",
       "      <td>CAD</td>\n",
       "      <td>2020-12-04 23:59:59+00:00</td>\n",
       "      <td>1.28571</td>\n",
       "    </tr>\n",
       "    <tr>\n",
       "      <th>2</th>\n",
       "      <td>USD</td>\n",
       "      <td>CAD</td>\n",
       "      <td>2020-12-05 23:59:59+00:00</td>\n",
       "      <td>1.28571</td>\n",
       "    </tr>\n",
       "    <tr>\n",
       "      <th>3</th>\n",
       "      <td>USD</td>\n",
       "      <td>CAD</td>\n",
       "      <td>2020-12-06 23:59:59+00:00</td>\n",
       "      <td>1.28571</td>\n",
       "    </tr>\n",
       "    <tr>\n",
       "      <th>4</th>\n",
       "      <td>USD</td>\n",
       "      <td>CAD</td>\n",
       "      <td>2020-12-07 23:59:59+00:00</td>\n",
       "      <td>1.28109</td>\n",
       "    </tr>\n",
       "  </tbody>\n",
       "</table>\n",
       "</div>"
      ],
      "text/plain": [
       "  base_currency quote_currency                close_time  average_midpoint\n",
       "0           USD            CAD 2020-12-03 23:59:59+00:00           1.29142\n",
       "1           USD            CAD 2020-12-04 23:59:59+00:00           1.28571\n",
       "2           USD            CAD 2020-12-05 23:59:59+00:00           1.28571\n",
       "3           USD            CAD 2020-12-06 23:59:59+00:00           1.28571\n",
       "4           USD            CAD 2020-12-07 23:59:59+00:00           1.28109"
      ]
     },
     "execution_count": 44,
     "metadata": {},
     "output_type": "execute_result"
    }
   ],
   "source": [
    "df.head()"
   ]
  },
  {
   "cell_type": "code",
   "execution_count": 45,
   "metadata": {},
   "outputs": [
    {
     "data": {
      "text/html": [
       "<div>\n",
       "<style scoped>\n",
       "    .dataframe tbody tr th:only-of-type {\n",
       "        vertical-align: middle;\n",
       "    }\n",
       "\n",
       "    .dataframe tbody tr th {\n",
       "        vertical-align: top;\n",
       "    }\n",
       "\n",
       "    .dataframe thead th {\n",
       "        text-align: right;\n",
       "    }\n",
       "</style>\n",
       "<table border=\"1\" class=\"dataframe\">\n",
       "  <thead>\n",
       "    <tr style=\"text-align: right;\">\n",
       "      <th></th>\n",
       "      <th>base_currency</th>\n",
       "      <th>quote_currency</th>\n",
       "      <th>close_time</th>\n",
       "      <th>average_midpoint</th>\n",
       "    </tr>\n",
       "  </thead>\n",
       "  <tbody>\n",
       "    <tr>\n",
       "      <th>0</th>\n",
       "      <td>USD</td>\n",
       "      <td>CAD</td>\n",
       "      <td>2020-12-03 23:59:59+00:00</td>\n",
       "      <td>1.29142</td>\n",
       "    </tr>\n",
       "    <tr>\n",
       "      <th>1</th>\n",
       "      <td>USD</td>\n",
       "      <td>CAD</td>\n",
       "      <td>2020-12-04 23:59:59+00:00</td>\n",
       "      <td>1.28571</td>\n",
       "    </tr>\n",
       "    <tr>\n",
       "      <th>2</th>\n",
       "      <td>USD</td>\n",
       "      <td>CAD</td>\n",
       "      <td>2020-12-05 23:59:59+00:00</td>\n",
       "      <td>1.28571</td>\n",
       "    </tr>\n",
       "    <tr>\n",
       "      <th>3</th>\n",
       "      <td>USD</td>\n",
       "      <td>CAD</td>\n",
       "      <td>2020-12-06 23:59:59+00:00</td>\n",
       "      <td>1.28571</td>\n",
       "    </tr>\n",
       "    <tr>\n",
       "      <th>4</th>\n",
       "      <td>USD</td>\n",
       "      <td>CAD</td>\n",
       "      <td>2020-12-07 23:59:59+00:00</td>\n",
       "      <td>1.28109</td>\n",
       "    </tr>\n",
       "  </tbody>\n",
       "</table>\n",
       "</div>"
      ],
      "text/plain": [
       "  base_currency quote_currency                close_time  average_midpoint\n",
       "0           USD            CAD 2020-12-03 23:59:59+00:00           1.29142\n",
       "1           USD            CAD 2020-12-04 23:59:59+00:00           1.28571\n",
       "2           USD            CAD 2020-12-05 23:59:59+00:00           1.28571\n",
       "3           USD            CAD 2020-12-06 23:59:59+00:00           1.28571\n",
       "4           USD            CAD 2020-12-07 23:59:59+00:00           1.28109"
      ]
     },
     "execution_count": 45,
     "metadata": {},
     "output_type": "execute_result"
    }
   ],
   "source": [
    "# plot time\n",
    "# first set index\n",
    "# df.set_index('close_time',inplace=True)\n",
    "df.head()"
   ]
  },
  {
   "cell_type": "code",
   "execution_count": 50,
   "metadata": {},
   "outputs": [],
   "source": [
    "# use groupby to plot\n",
    "# df.set_index('close_time',inplace=True)\n",
    "# df.groupby('quote_currency')['average_midpoint'].plot()"
   ]
  },
  {
   "cell_type": "code",
   "execution_count": 48,
   "metadata": {},
   "outputs": [
    {
     "data": {
      "text/plain": [
       "array([<AxesSubplot:xlabel='close_time'>,\n",
       "       <AxesSubplot:xlabel='close_time'>,\n",
       "       <AxesSubplot:xlabel='close_time'>,\n",
       "       <AxesSubplot:xlabel='close_time'>,\n",
       "       <AxesSubplot:xlabel='close_time'>,\n",
       "       <AxesSubplot:xlabel='close_time'>], dtype=object)"
      ]
     },
     "execution_count": 48,
     "metadata": {},
     "output_type": "execute_result"
    },
    {
     "data": {
      "image/png": "[encoded data removed]",
      "text/plain": [
       "<Figure size 360x720 with 6 Axes>"
      ]
     },
     "metadata": {
      "needs_background": "light"
     },
     "output_type": "display_data"
    }
   ],
   "source": [
    "# the above graph is not super helpful because of the scales, so we'll use individual subplots\n",
    "pd.pivot_table(df.reset_index(),\n",
    "               index='close_time', columns='quote_currency', values='average_midpoint'\n",
    "              ).plot(subplots=True,figsize=(5,10))\n"
   ]
  },
  {
   "cell_type": "code",
   "execution_count": 53,
   "metadata": {},
   "outputs": [
    {
     "data": {
      "text/html": [
       "<div>\n",
       "<style scoped>\n",
       "    .dataframe tbody tr th:only-of-type {\n",
       "        vertical-align: middle;\n",
       "    }\n",
       "\n",
       "    .dataframe tbody tr th {\n",
       "        vertical-align: top;\n",
       "    }\n",
       "\n",
       "    .dataframe thead th {\n",
       "        text-align: right;\n",
       "    }\n",
       "</style>\n",
       "<table border=\"1\" class=\"dataframe\">\n",
       "  <thead>\n",
       "    <tr style=\"text-align: right;\">\n",
       "      <th></th>\n",
       "      <th>Date</th>\n",
       "      <th>Open</th>\n",
       "      <th>High</th>\n",
       "      <th>Low</th>\n",
       "      <th>Close</th>\n",
       "      <th>Adj Close</th>\n",
       "      <th>Volume</th>\n",
       "    </tr>\n",
       "  </thead>\n",
       "  <tbody>\n",
       "    <tr>\n",
       "      <th>0</th>\n",
       "      <td>2020-12-03</td>\n",
       "      <td>91.059998</td>\n",
       "      <td>91.089996</td>\n",
       "      <td>90.510002</td>\n",
       "      <td>90.709999</td>\n",
       "      <td>90.709999</td>\n",
       "      <td>0.0</td>\n",
       "    </tr>\n",
       "    <tr>\n",
       "      <th>1</th>\n",
       "      <td>2020-12-04</td>\n",
       "      <td>90.709999</td>\n",
       "      <td>90.870003</td>\n",
       "      <td>90.480003</td>\n",
       "      <td>90.699997</td>\n",
       "      <td>90.699997</td>\n",
       "      <td>0.0</td>\n",
       "    </tr>\n",
       "    <tr>\n",
       "      <th>3</th>\n",
       "      <td>2020-12-07</td>\n",
       "      <td>90.809998</td>\n",
       "      <td>91.239998</td>\n",
       "      <td>90.620003</td>\n",
       "      <td>90.790001</td>\n",
       "      <td>90.790001</td>\n",
       "      <td>0.0</td>\n",
       "    </tr>\n",
       "    <tr>\n",
       "      <th>4</th>\n",
       "      <td>2020-12-08</td>\n",
       "      <td>90.900002</td>\n",
       "      <td>91.019997</td>\n",
       "      <td>90.750000</td>\n",
       "      <td>90.970001</td>\n",
       "      <td>90.970001</td>\n",
       "      <td>0.0</td>\n",
       "    </tr>\n",
       "    <tr>\n",
       "      <th>5</th>\n",
       "      <td>2020-12-09</td>\n",
       "      <td>90.919998</td>\n",
       "      <td>91.199997</td>\n",
       "      <td>90.690002</td>\n",
       "      <td>91.089996</td>\n",
       "      <td>91.089996</td>\n",
       "      <td>0.0</td>\n",
       "    </tr>\n",
       "  </tbody>\n",
       "</table>\n",
       "</div>"
      ],
      "text/plain": [
       "         Date       Open       High        Low      Close  Adj Close  Volume\n",
       "0  2020-12-03  91.059998  91.089996  90.510002  90.709999  90.709999     0.0\n",
       "1  2020-12-04  90.709999  90.870003  90.480003  90.699997  90.699997     0.0\n",
       "3  2020-12-07  90.809998  91.239998  90.620003  90.790001  90.790001     0.0\n",
       "4  2020-12-08  90.900002  91.019997  90.750000  90.970001  90.970001     0.0\n",
       "5  2020-12-09  90.919998  91.199997  90.690002  91.089996  91.089996     0.0"
      ]
     },
     "execution_count": 53,
     "metadata": {},
     "output_type": "execute_result"
    }
   ],
   "source": [
    "# introduce dollar index csv\n",
    "# also need to clean this csv\n",
    "# and possibly reorder the dates\n",
    "dxydf=pd.read_csv('dxy.csv')\n",
    "dxydf=dxydf.dropna()\n",
    "dxydf.head()"
   ]
  },
  {
   "cell_type": "code",
   "execution_count": 64,
   "metadata": {},
   "outputs": [],
   "source": [
    "df2 = dxydf[['Date','Adj Close']].copy()"
   ]
  },
  {
   "cell_type": "code",
   "execution_count": 65,
   "metadata": {},
   "outputs": [],
   "source": [
    "df2['Date']=pd.to_datetime(df2['Date'])\n",
    "# df2.dtypes"
   ]
  },
  {
   "cell_type": "code",
   "execution_count": 69,
   "metadata": {},
   "outputs": [],
   "source": [
    "# df2.plot(dfdf2['Adj Close'])\n",
    "# set the index\n",
    "df2.set_index('Date',inplace=True)"
   ]
  },
  {
   "cell_type": "code",
   "execution_count": 70,
   "metadata": {},
   "outputs": [
    {
     "data": {
      "text/html": [
       "<div>\n",
       "<style scoped>\n",
       "    .dataframe tbody tr th:only-of-type {\n",
       "        vertical-align: middle;\n",
       "    }\n",
       "\n",
       "    .dataframe tbody tr th {\n",
       "        vertical-align: top;\n",
       "    }\n",
       "\n",
       "    .dataframe thead th {\n",
       "        text-align: right;\n",
       "    }\n",
       "</style>\n",
       "<table border=\"1\" class=\"dataframe\">\n",
       "  <thead>\n",
       "    <tr style=\"text-align: right;\">\n",
       "      <th></th>\n",
       "      <th>Adj Close</th>\n",
       "    </tr>\n",
       "    <tr>\n",
       "      <th>Date</th>\n",
       "      <th></th>\n",
       "    </tr>\n",
       "  </thead>\n",
       "  <tbody>\n",
       "    <tr>\n",
       "      <th>2020-12-03</th>\n",
       "      <td>90.709999</td>\n",
       "    </tr>\n",
       "    <tr>\n",
       "      <th>2020-12-04</th>\n",
       "      <td>90.699997</td>\n",
       "    </tr>\n",
       "    <tr>\n",
       "      <th>2020-12-07</th>\n",
       "      <td>90.790001</td>\n",
       "    </tr>\n",
       "    <tr>\n",
       "      <th>2020-12-08</th>\n",
       "      <td>90.970001</td>\n",
       "    </tr>\n",
       "    <tr>\n",
       "      <th>2020-12-09</th>\n",
       "      <td>91.089996</td>\n",
       "    </tr>\n",
       "  </tbody>\n",
       "</table>\n",
       "</div>"
      ],
      "text/plain": [
       "            Adj Close\n",
       "Date                 \n",
       "2020-12-03  90.709999\n",
       "2020-12-04  90.699997\n",
       "2020-12-07  90.790001\n",
       "2020-12-08  90.970001\n",
       "2020-12-09  91.089996"
      ]
     },
     "execution_count": 70,
     "metadata": {},
     "output_type": "execute_result"
    }
   ],
   "source": [
    "df2.head()"
   ]
  },
  {
   "cell_type": "code",
   "execution_count": 71,
   "metadata": {},
   "outputs": [
    {
     "data": {
      "text/plain": [
       "<AxesSubplot:xlabel='Date'>"
      ]
     },
     "execution_count": 71,
     "metadata": {},
     "output_type": "execute_result"
    },
    {
     "data": {
      "image/png": "[encoded data removed]",
      "text/plain": [
       "<Figure size 432x288 with 1 Axes>"
      ]
     },
     "metadata": {
      "needs_background": "light"
     },
     "output_type": "display_data"
    }
   ],
   "source": [
    "df2.plot()"
   ]
  },
  {
   "cell_type": "code",
   "execution_count": 105,
   "metadata": {},
   "outputs": [],
   "source": [
    "# best way to really handle everything is through log returns, so lets do this again, but better\n",
    "# lets recreate our dfs\n",
    "\n",
    "# basic creation\n",
    "curr_df=maindf[['base_currency', 'quote_currency', 'close_time','average_midpoint']].copy()\n",
    "dxy_df=dxydf[['Date','Adj Close']].copy()"
   ]
  },
  {
   "cell_type": "code",
   "execution_count": 106,
   "metadata": {},
   "outputs": [],
   "source": [
    "# date handling\n",
    "curr_df['close_time']=pd.to_datetime(curr_df['close_time'])\n",
    "dxy_df['Date']=pd.to_datetime(dxy_df['Date'])\n",
    "# set index\n",
    "curr_df.set_index('close_time',inplace=True)\n",
    "dxy_df.set_index('Date',inplace=True)"
   ]
  },
  {
   "cell_type": "code",
   "execution_count": 107,
   "metadata": {},
   "outputs": [
    {
     "name": "stdout",
     "output_type": "stream",
     "text": [
      "curr_df length:  186\n",
      "dxy_df length:  19\n"
     ]
    }
   ],
   "source": [
    "print('curr_df length: ',len(curr_df))\n",
    "print('dxy_df length: ',len(dxy_df))"
   ]
  },
  {
   "cell_type": "code",
   "execution_count": 108,
   "metadata": {},
   "outputs": [
    {
     "data": {
      "text/html": [
       "<div>\n",
       "<style scoped>\n",
       "    .dataframe tbody tr th:only-of-type {\n",
       "        vertical-align: middle;\n",
       "    }\n",
       "\n",
       "    .dataframe tbody tr th {\n",
       "        vertical-align: top;\n",
       "    }\n",
       "\n",
       "    .dataframe thead th {\n",
       "        text-align: right;\n",
       "    }\n",
       "</style>\n",
       "<table border=\"1\" class=\"dataframe\">\n",
       "  <thead>\n",
       "    <tr style=\"text-align: right;\">\n",
       "      <th></th>\n",
       "      <th>base_currency</th>\n",
       "      <th>quote_currency</th>\n",
       "      <th>average_midpoint</th>\n",
       "    </tr>\n",
       "    <tr>\n",
       "      <th>close_time</th>\n",
       "      <th></th>\n",
       "      <th></th>\n",
       "      <th></th>\n",
       "    </tr>\n",
       "  </thead>\n",
       "  <tbody>\n",
       "    <tr>\n",
       "      <th>2020-12-03 23:59:59+00:00</th>\n",
       "      <td>USD</td>\n",
       "      <td>CAD</td>\n",
       "      <td>1.29142</td>\n",
       "    </tr>\n",
       "    <tr>\n",
       "      <th>2020-12-04 23:59:59+00:00</th>\n",
       "      <td>USD</td>\n",
       "      <td>CAD</td>\n",
       "      <td>1.28571</td>\n",
       "    </tr>\n",
       "    <tr>\n",
       "      <th>2020-12-05 23:59:59+00:00</th>\n",
       "      <td>USD</td>\n",
       "      <td>CAD</td>\n",
       "      <td>1.28571</td>\n",
       "    </tr>\n",
       "    <tr>\n",
       "      <th>2020-12-06 23:59:59+00:00</th>\n",
       "      <td>USD</td>\n",
       "      <td>CAD</td>\n",
       "      <td>1.28571</td>\n",
       "    </tr>\n",
       "    <tr>\n",
       "      <th>2020-12-07 23:59:59+00:00</th>\n",
       "      <td>USD</td>\n",
       "      <td>CAD</td>\n",
       "      <td>1.28109</td>\n",
       "    </tr>\n",
       "  </tbody>\n",
       "</table>\n",
       "</div>"
      ],
      "text/plain": [
       "                          base_currency quote_currency  average_midpoint\n",
       "close_time                                                              \n",
       "2020-12-03 23:59:59+00:00           USD            CAD           1.29142\n",
       "2020-12-04 23:59:59+00:00           USD            CAD           1.28571\n",
       "2020-12-05 23:59:59+00:00           USD            CAD           1.28571\n",
       "2020-12-06 23:59:59+00:00           USD            CAD           1.28571\n",
       "2020-12-07 23:59:59+00:00           USD            CAD           1.28109"
      ]
     },
     "execution_count": 108,
     "metadata": {},
     "output_type": "execute_result"
    }
   ],
   "source": [
    "# get some visuals of dfs\n",
    "curr_df.head()"
   ]
  },
  {
   "cell_type": "code",
   "execution_count": 109,
   "metadata": {},
   "outputs": [
    {
     "data": {
      "text/html": [
       "<div>\n",
       "<style scoped>\n",
       "    .dataframe tbody tr th:only-of-type {\n",
       "        vertical-align: middle;\n",
       "    }\n",
       "\n",
       "    .dataframe tbody tr th {\n",
       "        vertical-align: top;\n",
       "    }\n",
       "\n",
       "    .dataframe thead th {\n",
       "        text-align: right;\n",
       "    }\n",
       "</style>\n",
       "<table border=\"1\" class=\"dataframe\">\n",
       "  <thead>\n",
       "    <tr style=\"text-align: right;\">\n",
       "      <th></th>\n",
       "      <th>Adj Close</th>\n",
       "    </tr>\n",
       "    <tr>\n",
       "      <th>Date</th>\n",
       "      <th></th>\n",
       "    </tr>\n",
       "  </thead>\n",
       "  <tbody>\n",
       "    <tr>\n",
       "      <th>2020-12-03</th>\n",
       "      <td>90.709999</td>\n",
       "    </tr>\n",
       "    <tr>\n",
       "      <th>2020-12-04</th>\n",
       "      <td>90.699997</td>\n",
       "    </tr>\n",
       "    <tr>\n",
       "      <th>2020-12-07</th>\n",
       "      <td>90.790001</td>\n",
       "    </tr>\n",
       "    <tr>\n",
       "      <th>2020-12-08</th>\n",
       "      <td>90.970001</td>\n",
       "    </tr>\n",
       "    <tr>\n",
       "      <th>2020-12-09</th>\n",
       "      <td>91.089996</td>\n",
       "    </tr>\n",
       "  </tbody>\n",
       "</table>\n",
       "</div>"
      ],
      "text/plain": [
       "            Adj Close\n",
       "Date                 \n",
       "2020-12-03  90.709999\n",
       "2020-12-04  90.699997\n",
       "2020-12-07  90.790001\n",
       "2020-12-08  90.970001\n",
       "2020-12-09  91.089996"
      ]
     },
     "execution_count": 109,
     "metadata": {},
     "output_type": "execute_result"
    }
   ],
   "source": [
    "# visual of df\n",
    "dxy_df.head()"
   ]
  },
  {
   "cell_type": "code",
   "execution_count": 110,
   "metadata": {},
   "outputs": [],
   "source": [
    "# time for log returns\n",
    "# formula => ln(current price/orig price)\n",
    "# using shift for this\n",
    "dxy_df['log_ret'] = np.log(dxy_df['Adj Close']) - np.log(dxy_df['Adj Close'].shift(1))\n",
    "# we're going to have NaN for this\n",
    "# we're going to remove that fella"
   ]
  },
  {
   "cell_type": "code",
   "execution_count": 111,
   "metadata": {},
   "outputs": [
    {
     "data": {
      "text/html": [
       "<div>\n",
       "<style scoped>\n",
       "    .dataframe tbody tr th:only-of-type {\n",
       "        vertical-align: middle;\n",
       "    }\n",
       "\n",
       "    .dataframe tbody tr th {\n",
       "        vertical-align: top;\n",
       "    }\n",
       "\n",
       "    .dataframe thead th {\n",
       "        text-align: right;\n",
       "    }\n",
       "</style>\n",
       "<table border=\"1\" class=\"dataframe\">\n",
       "  <thead>\n",
       "    <tr style=\"text-align: right;\">\n",
       "      <th></th>\n",
       "      <th>Adj Close</th>\n",
       "      <th>log_ret</th>\n",
       "    </tr>\n",
       "    <tr>\n",
       "      <th>Date</th>\n",
       "      <th></th>\n",
       "      <th></th>\n",
       "    </tr>\n",
       "  </thead>\n",
       "  <tbody>\n",
       "    <tr>\n",
       "      <th>2020-12-04</th>\n",
       "      <td>90.699997</td>\n",
       "      <td>-0.000110</td>\n",
       "    </tr>\n",
       "    <tr>\n",
       "      <th>2020-12-07</th>\n",
       "      <td>90.790001</td>\n",
       "      <td>0.000992</td>\n",
       "    </tr>\n",
       "    <tr>\n",
       "      <th>2020-12-08</th>\n",
       "      <td>90.970001</td>\n",
       "      <td>0.001981</td>\n",
       "    </tr>\n",
       "    <tr>\n",
       "      <th>2020-12-09</th>\n",
       "      <td>91.089996</td>\n",
       "      <td>0.001318</td>\n",
       "    </tr>\n",
       "    <tr>\n",
       "      <th>2020-12-10</th>\n",
       "      <td>90.790001</td>\n",
       "      <td>-0.003299</td>\n",
       "    </tr>\n",
       "  </tbody>\n",
       "</table>\n",
       "</div>"
      ],
      "text/plain": [
       "            Adj Close   log_ret\n",
       "Date                           \n",
       "2020-12-04  90.699997 -0.000110\n",
       "2020-12-07  90.790001  0.000992\n",
       "2020-12-08  90.970001  0.001981\n",
       "2020-12-09  91.089996  0.001318\n",
       "2020-12-10  90.790001 -0.003299"
      ]
     },
     "execution_count": 111,
     "metadata": {},
     "output_type": "execute_result"
    }
   ],
   "source": [
    "dxy_df=dxy_df.dropna()\n",
    "dxy_df.head()"
   ]
  },
  {
   "cell_type": "code",
   "execution_count": 112,
   "metadata": {},
   "outputs": [
    {
     "name": "stdout",
     "output_type": "stream",
     "text": [
      "dxy_df length:  18\n"
     ]
    }
   ],
   "source": [
    "print('dxy_df length: ',len(dxy_df))"
   ]
  },
  {
   "cell_type": "code",
   "execution_count": 104,
   "metadata": {
    "scrolled": true
   },
   "outputs": [],
   "source": [
    "# can't do the same thing for our curr df\n",
    "# because we have different currencies\n"
   ]
  },
  {
   "cell_type": "code",
   "execution_count": 153,
   "metadata": {},
   "outputs": [],
   "source": [
    "# separate dfs\n",
    "# should be 31 midpoints per currency because 186=31*6\n",
    "# print(curr_df['quote_currency'][3])\n",
    "\n",
    "cad_df = curr_df[:31]\n",
    "chf_df = curr_df[31:62]\n",
    "eur_df = curr_df[62:93]\n",
    "gbp_df = curr_df[93:124]\n",
    "jpy_df = curr_df[124:155]\n",
    "sek_df = curr_df[155:186]\n",
    "# len(cad_df)\n",
    "# print(curr_df[124:155])\n",
    "list_dfs=[cad_df,chf_df,eur_df,gbp_df,jpy_df,sek_df]"
   ]
  },
  {
   "cell_type": "code",
   "execution_count": 143,
   "metadata": {},
   "outputs": [],
   "source": [
    "# for each in list_dfs:\n",
    "#     print(each.head())"
   ]
  },
  {
   "cell_type": "code",
   "execution_count": 154,
   "metadata": {
    "scrolled": true
   },
   "outputs": [
    {
     "name": "stderr",
     "output_type": "stream",
     "text": [
      "<ipython-input-154-c2a2af5dd09a>:4: SettingWithCopyWarning: \n",
      "A value is trying to be set on a copy of a slice from a DataFrame.\n",
      "Try using .loc[row_indexer,col_indexer] = value instead\n",
      "\n",
      "See the caveats in the documentation: https://pandas.pydata.org/pandas-docs/stable/user_guide/indexing.html#returning-a-view-versus-a-copy\n",
      "  each['log_ret'] = np.log(each['average_midpoint']) - np.log(each['average_midpoint'].shift(1))\n"
     ]
    }
   ],
   "source": [
    "# do this for all dfs\n",
    "\n",
    "for each in list_dfs:\n",
    "    each['log_ret'] = np.log(each['average_midpoint']) - np.log(each['average_midpoint'].shift(1))\n",
    "#     curr_df.head()\n"
   ]
  },
  {
   "cell_type": "code",
   "execution_count": 159,
   "metadata": {},
   "outputs": [],
   "source": [
    "new_listdfs=[]\n",
    "for each in list_dfs:\n",
    "    each=each.dropna()\n",
    "    new_listdfs.append(each)\n",
    "#     print(each.head())"
   ]
  },
  {
   "cell_type": "code",
   "execution_count": 160,
   "metadata": {},
   "outputs": [
    {
     "data": {
      "text/html": [
       "<div>\n",
       "<style scoped>\n",
       "    .dataframe tbody tr th:only-of-type {\n",
       "        vertical-align: middle;\n",
       "    }\n",
       "\n",
       "    .dataframe tbody tr th {\n",
       "        vertical-align: top;\n",
       "    }\n",
       "\n",
       "    .dataframe thead th {\n",
       "        text-align: right;\n",
       "    }\n",
       "</style>\n",
       "<table border=\"1\" class=\"dataframe\">\n",
       "  <thead>\n",
       "    <tr style=\"text-align: right;\">\n",
       "      <th></th>\n",
       "      <th>base_currency</th>\n",
       "      <th>quote_currency</th>\n",
       "      <th>average_midpoint</th>\n",
       "      <th>log_ret</th>\n",
       "    </tr>\n",
       "    <tr>\n",
       "      <th>close_time</th>\n",
       "      <th></th>\n",
       "      <th></th>\n",
       "      <th></th>\n",
       "      <th></th>\n",
       "    </tr>\n",
       "  </thead>\n",
       "  <tbody>\n",
       "    <tr>\n",
       "      <th>2020-12-04 23:59:59+00:00</th>\n",
       "      <td>USD</td>\n",
       "      <td>JPY</td>\n",
       "      <td>103.989</td>\n",
       "      <td>-0.001048</td>\n",
       "    </tr>\n",
       "    <tr>\n",
       "      <th>2020-12-05 23:59:59+00:00</th>\n",
       "      <td>USD</td>\n",
       "      <td>JPY</td>\n",
       "      <td>103.989</td>\n",
       "      <td>0.000000</td>\n",
       "    </tr>\n",
       "    <tr>\n",
       "      <th>2020-12-06 23:59:59+00:00</th>\n",
       "      <td>USD</td>\n",
       "      <td>JPY</td>\n",
       "      <td>103.989</td>\n",
       "      <td>0.000000</td>\n",
       "    </tr>\n",
       "    <tr>\n",
       "      <th>2020-12-07 23:59:59+00:00</th>\n",
       "      <td>USD</td>\n",
       "      <td>JPY</td>\n",
       "      <td>104.139</td>\n",
       "      <td>0.001441</td>\n",
       "    </tr>\n",
       "    <tr>\n",
       "      <th>2020-12-08 23:59:59+00:00</th>\n",
       "      <td>USD</td>\n",
       "      <td>JPY</td>\n",
       "      <td>104.160</td>\n",
       "      <td>0.000202</td>\n",
       "    </tr>\n",
       "  </tbody>\n",
       "</table>\n",
       "</div>"
      ],
      "text/plain": [
       "                          base_currency quote_currency  average_midpoint  \\\n",
       "close_time                                                                 \n",
       "2020-12-04 23:59:59+00:00           USD            JPY           103.989   \n",
       "2020-12-05 23:59:59+00:00           USD            JPY           103.989   \n",
       "2020-12-06 23:59:59+00:00           USD            JPY           103.989   \n",
       "2020-12-07 23:59:59+00:00           USD            JPY           104.139   \n",
       "2020-12-08 23:59:59+00:00           USD            JPY           104.160   \n",
       "\n",
       "                            log_ret  \n",
       "close_time                           \n",
       "2020-12-04 23:59:59+00:00 -0.001048  \n",
       "2020-12-05 23:59:59+00:00  0.000000  \n",
       "2020-12-06 23:59:59+00:00  0.000000  \n",
       "2020-12-07 23:59:59+00:00  0.001441  \n",
       "2020-12-08 23:59:59+00:00  0.000202  "
      ]
     },
     "execution_count": 160,
     "metadata": {},
     "output_type": "execute_result"
    }
   ],
   "source": [
    "new_listdfs[4].head()"
   ]
  },
  {
   "cell_type": "code",
   "execution_count": 163,
   "metadata": {},
   "outputs": [
    {
     "ename": "TypeError",
     "evalue": "cannot unpack non-iterable int object",
     "output_type": "error",
     "traceback": [
      "\u001b[0;31m---------------------------------------------------------------------------\u001b[0m",
      "\u001b[0;31mTypeError\u001b[0m                                 Traceback (most recent call last)",
      "\u001b[0;32m<ipython-input-163-74499a3b0abe>\u001b[0m in \u001b[0;36m<module>\u001b[0;34m\u001b[0m\n\u001b[1;32m      8\u001b[0m \u001b[0;31m# graphing time\u001b[0m\u001b[0;34m\u001b[0m\u001b[0;34m\u001b[0m\u001b[0;34m\u001b[0m\u001b[0m\n\u001b[1;32m      9\u001b[0m \u001b[0mfig\u001b[0m\u001b[0;34m,\u001b[0m \u001b[0maxs\u001b[0m \u001b[0;34m=\u001b[0m \u001b[0mplt\u001b[0m\u001b[0;34m.\u001b[0m\u001b[0msubplots\u001b[0m\u001b[0;34m(\u001b[0m\u001b[0;36m2\u001b[0m\u001b[0;34m,\u001b[0m\u001b[0;36m3\u001b[0m\u001b[0;34m)\u001b[0m\u001b[0;34m\u001b[0m\u001b[0;34m\u001b[0m\u001b[0m\n\u001b[0;32m---> 10\u001b[0;31m \u001b[0;32mfor\u001b[0m \u001b[0mx\u001b[0m\u001b[0;34m,\u001b[0m\u001b[0my\u001b[0m \u001b[0;32min\u001b[0m \u001b[0mrange\u001b[0m\u001b[0;34m(\u001b[0m\u001b[0;36m6\u001b[0m\u001b[0;34m)\u001b[0m\u001b[0;34m:\u001b[0m\u001b[0;34m\u001b[0m\u001b[0;34m\u001b[0m\u001b[0m\n\u001b[0m\u001b[1;32m     11\u001b[0m     \u001b[0mprint\u001b[0m\u001b[0;34m(\u001b[0m\u001b[0mx\u001b[0m\u001b[0;34m,\u001b[0m\u001b[0my\u001b[0m\u001b[0;34m)\u001b[0m\u001b[0;34m\u001b[0m\u001b[0;34m\u001b[0m\u001b[0m\n",
      "\u001b[0;31mTypeError\u001b[0m: cannot unpack non-iterable int object"
     ]
    },
    {
     "data": {
      "image/png": "[encoded data removed]",
      "text/plain": [
       "<Figure size 432x288 with 6 Axes>"
      ]
     },
     "metadata": {
      "needs_background": "light"
     },
     "output_type": "display_data"
    }
   ],
   "source": [
    "# plt.plot(new_listdfs[4]['log_ret'])\n",
    "# Create four polar axes and access them through the returned array\n",
    "# fig, axs = plt.subplots(2, 2, subplot_kw=dict(polar=True))\n",
    "# axs[0, 0].plot(x, y)\n",
    "# axs[0, 1].plot(x, y)\n",
    "# axs[1, 0].plot(x, y)\n",
    "# axs[1, 1].scatter(x, y)\n",
    "\n",
    "# graphing time\n",
    "fig, axs = plt.subplots(2,3)\n",
    "for x,y in range(6):\n",
    "    print(x,y)"
   ]
  }
 ],
 "metadata": {
  "kernelspec": {
   "display_name": "Python 3",
   "language": "python",
   "name": "python3"
  },
  "language_info": {
   "codemirror_mode": {
    "name": "ipython",
    "version": 3
   },
   "file_extension": ".py",
   "mimetype": "text/x-python",
   "name": "python",
   "nbconvert_exporter": "python",
   "pygments_lexer": "ipython3",
   "version": "3.8.5"
  }
 },
 "nbformat": 4,
 "nbformat_minor": 4
}
