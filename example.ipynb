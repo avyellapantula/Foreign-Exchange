{
 "cells": [
  {
   "cell_type": "code",
   "execution_count": null,
   "metadata": {},
   "outputs": [],
   "source": [
    "\"\"\"\n",
    "Demonstrates streaming feature in OANDA open api\n",
    "To execute, run the following command:\n",
    "python streaming.py [options]\n",
    "To show heartbeat, replace [options] by -b or --displayHeartBeat\n",
    "\"\"\"\n",
    "import requests\n",
    "import json\n",
    "\n",
    "from optparse import OptionParser"
   ]
  },
  {
   "cell_type": "code",
   "execution_count": null,
   "metadata": {},
   "outputs": [],
   "source": [
    "def connect_to_stream():\n",
    "\n",
    "    \"\"\"\n",
    "    Environment                 Description \n",
    "    fxTrade (Live)              The live (real money) environment \n",
    "    fxTrade Practice (Demo)     The demo (simulated money) environment \n",
    "    \"\"\"\n",
    "    domainDict = { 'live' : 'stream-fxtrade.oanda.com',\n",
    "               'demo' : 'stream-fxpractice.oanda.com' }\n",
    "\n",
    "    # Replace the following variables with your personal values \n",
    "    environment = \"demo\" # Replace this 'live' if you wish to connect to the live environment \n",
    "    domain = domainDict[environment] \n",
    "    access_token = 'REPLACE THIS WITH YOUR ACCESS TOKEN'\n",
    "    account_id = 'REPLACE THIS WITH YOUR ACCOUNT ID, ie  2252344'\n",
    "    instruments = 'REPLACE THIS WITH THE INSTRUMENTS YOU WOULD LIKE TO SUBSCRIBE TO.  ie \"EUR_USD,USD_JPY,...' \n",
    "\n",
    "    try:\n",
    "        s = requests.Session()\n",
    "        url = \"https://\" + domain + \"/v1/prices\"\n",
    "        headers = {'Authorization' : 'Bearer ' + access_token,\n",
    "                   # 'X-Accept-Datetime-Format' : 'unix'\n",
    "                  }\n",
    "        params = {'instruments' : instruments, 'accountId' : account_id}\n",
    "        req = requests.Request('GET', url, headers = headers, params = params)\n",
    "        pre = req.prepare()\n",
    "        resp = s.send(pre, stream = True, verify = True)\n",
    "        return resp\n",
    "    except Exception as e:\n",
    "        s.close()\n",
    "        print(\"Caught exception when connecting to stream\\n\" + str(e)) "
   ]
  },
  {
   "cell_type": "code",
   "execution_count": null,
   "metadata": {},
   "outputs": [],
   "source": [
    "def demo(displayHeartbeat):\n",
    "    response = connect_to_stream()\n",
    "    if response.status_code != 200:\n",
    "        print(response.text)\n",
    "        return\n",
    "    for line in response.iter_lines(1):\n",
    "        if line:\n",
    "            try:\n",
    "                line = line.decode('utf-8')\n",
    "                msg = json.loads(line)\n",
    "            except Exception as e:\n",
    "                print(\"Caught exception when converting message into json\\n\" + str(e))\n",
    "                return\n",
    "\n",
    "            if \"instrument\" in msg or \"tick\" in msg or displayHeartbeat:\n",
    "                print(line)\n"
   ]
  },
  {
   "cell_type": "code",
   "execution_count": null,
   "metadata": {},
   "outputs": [],
   "source": [
    "def main():\n",
    "    usage = \"usage: %prog [options]\"\n",
    "    parser = OptionParser(usage)\n",
    "    parser.add_option(\"-b\", \"--displayHeartBeat\", dest = \"verbose\", action = \"store_true\", \n",
    "                        help = \"Display HeartBeat in streaming data\")\n",
    "    displayHeartbeat = False\n",
    "\n",
    "    (options, args) = parser.parse_args()\n",
    "    if len(args) > 1:\n",
    "        parser.error(\"incorrect number of arguments\")\n",
    "    if options.verbose:\n",
    "        displayHeartbeat = True\n",
    "    demo(displayHeartbeat)"
   ]
  },
  {
   "cell_type": "code",
   "execution_count": null,
   "metadata": {},
   "outputs": [],
   "source": [
    "\n",
    "if __name__ == \"__main__\":\n",
    "    main()\n"
   ]
  }
 ],
 "metadata": {
  "kernelspec": {
   "display_name": "Python 3",
   "language": "python",
   "name": "python3"
  },
  "language_info": {
   "codemirror_mode": {
    "name": "ipython",
    "version": 3
   },
   "file_extension": ".py",
   "mimetype": "text/x-python",
   "name": "python",
   "nbconvert_exporter": "python",
   "pygments_lexer": "ipython3",
   "version": "3.8.5"
  }
 },
 "nbformat": 4,
 "nbformat_minor": 4
}
